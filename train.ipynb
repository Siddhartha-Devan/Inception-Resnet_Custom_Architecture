{
 "cells": [
  {
   "cell_type": "code",
   "execution_count": 1,
   "metadata": {},
   "outputs": [],
   "source": [
    "import tensorflow as tf\n",
    "import cv2\n",
    "import pandas as pd\n",
    "import numpy as np\n",
    "import seaborn as sns\n",
    "from tensorflow.keras.layers import Layer\n",
    "from tensorflow.keras import Model\n",
    "\n",
    "import os"
   ]
  },
  {
   "cell_type": "code",
   "execution_count": 2,
   "metadata": {},
   "outputs": [],
   "source": [
    "\n",
    "class QuadDense(Layer):\n",
    "    def __init__(self, units=64, activation = 'relu'):\n",
    "        super(QuadDense, self).__init__()\n",
    "        self.units = units\n",
    "        self.activation = tf.keras.activations.get(activation)\n",
    "\n",
    "    def build(self, input_shape):\n",
    "        w1_init = tf.random_normal_initializer()\n",
    "        self.w1 = tf.Variable(name = 'kernel_1', initial_value = w1_init(shape = (input_shape[-1], self.units), dtype = 'float32'))\n",
    "        \n",
    "        w2_init = tf.random_normal_initializer()\n",
    "        self.w2 = tf.Variable(name = 'kernel_2', initial_value = w2_init(shape = (input_shape[-1], self.units), dtype = 'float32'))\n",
    "\n",
    "        bias_init = tf.zeros_initializer()\n",
    "        self.b = tf.Variable(name = 'bias', initial_value = bias_init(shape = (self.units,), dtype = 'float32'))\n",
    "\n",
    "\n",
    "    def call(self, inputs):\n",
    "        return self.activation((tf.matmul(tf.math.square(inputs), self.w1)+tf.matmul(inputs, self.w2)+self.b))\n",
    "\n",
    "                             \n"
   ]
  },
  {
   "cell_type": "code",
   "execution_count": 3,
   "metadata": {},
   "outputs": [],
   "source": [
    "class ResidualBlock(Model):\n",
    "    def __init__(self, n_filters, kernel_size):\n",
    "        super(ResidualBlock, self).__init__()\n",
    "\n",
    "        self.conv1 = tf.keras.layers.Conv2D(kernel_size=kernel_size, filters = n_filters, padding = 'same')\n",
    "        self.bn1 = tf.keras.layers.BatchNormalization()\n",
    "\n",
    "        self.conv2 = tf.keras.layers.Conv2D(kernel_size = kernel_size, filters = n_filters, padding = 'same')\n",
    "        self.bn2 = tf.keras.layers.BatchNormalization()\n",
    "\n",
    "        self.activation = tf.keras.layers.Activation('relu')\n",
    "\n",
    "        self.conv_adjuster = tf.keras.layers.Conv2D(kernel_size= (1,1), filters = n_filters, padding = 'same')\n",
    "\n",
    "        self.add = tf.keras.layers.Add()\n",
    "\n",
    "    \n",
    "    def call(self, inputs):\n",
    "        print(inputs.shape)\n",
    "        x = self.conv1(inputs)\n",
    "        x = self.bn1(x)\n",
    "        x = self.activation(x)\n",
    "\n",
    "        x = self.conv2(x)\n",
    "        x = self.bn2(x)\n",
    "        x = self.activation(x)\n",
    "\n",
    "        input_tensor = self.conv_adjuster(inputs)\n",
    "        x = self.add([x, input_tensor])\n",
    "        x = self.activation(x)\n",
    "\n",
    "        return x\n"
   ]
  },
  {
   "cell_type": "code",
   "execution_count": 4,
   "metadata": {},
   "outputs": [],
   "source": [
    "class InceptionBlock(Model):\n",
    "    def __init__(self, n_filters):\n",
    "        super(InceptionBlock, self).__init__()\n",
    "        self.path1_conv1 = tf.keras.layers.Conv2D(kernel_size = (1,1), filters = n_filters, padding = 'same')\n",
    "        self.path1_conv2 = tf.keras.layers.Conv2D(kernel_size= (3,3), filters = n_filters, padding = 'same')\n",
    "        self.path1_bn = tf.keras.layers.BatchNormalization()\n",
    "\n",
    "\n",
    "        self.path2_conv1 = tf.keras.layers.Conv2D(kernel_size = (1,1), filters = n_filters*2, padding = 'same')\n",
    "        self.path2_conv2 = tf.keras.layers.Conv2D(kernel_size= (3,3), filters = n_filters*2, padding = 'same')\n",
    "        self.path2_bn = tf.keras.layers.BatchNormalization()\n",
    "\n",
    "        self.path3_conv1 = tf.keras.layers.Conv2D(kernel_size = (1,1), filters = n_filters//2, padding = 'same')\n",
    "        self.path3_conv2 = tf.keras.layers.Conv2D(kernel_size= (5,5), filters = n_filters//2, padding = 'same')\n",
    "        self.path3_bn = tf.keras.layers.BatchNormalization()\n",
    "\n",
    "        self.path4_pool = tf.keras.layers.MaxPooling2D(pool_size = (3,3), strides = (1,1), padding='same')\n",
    "        self.path4_conv1 = tf.keras.layers.Conv2D(kernel_size = (1,1), filters = n_filters, padding = 'same')\n",
    "        self.path4_bn = tf.keras.layers.BatchNormalization()\n",
    "\n",
    "        self.activation = tf.keras.layers.Activation('relu')\n",
    "\n",
    "        self.concat = tf.keras.layers.Concatenate()\n",
    "\n",
    "    \n",
    "    def call(self, inputs):\n",
    "        x1 = self.path1_conv1(inputs)\n",
    "        x1 = self.path1_conv2(x1)\n",
    "        x1 = self.path1_bn(x1)\n",
    "        x1 = self.activation(x1)\n",
    "\n",
    "        x2 = self.path2_conv1(inputs)\n",
    "        x2 = self.path2_conv2(x2)\n",
    "        x2 = self.path2_bn(x2)\n",
    "        x2 = self.activation(x2)\n",
    "\n",
    "        x3 = self.path3_conv1(inputs)\n",
    "        x3 = self.path3_conv2(x3)\n",
    "        x3 = self.path3_bn(x3)\n",
    "        x3 = self.activation(x3)\n",
    "\n",
    "        x4 = self.path4_pool(inputs)\n",
    "        x4 = self.path4_conv1(x4)\n",
    "        x4 = self.path4_bn(x4)\n",
    "        x4 = self.activation(x4)\n",
    "\n",
    "        outputs = self.concat([x1, x2, x3, x4])\n",
    "\n",
    "        return outputs"
   ]
  },
  {
   "cell_type": "code",
   "execution_count": 5,
   "metadata": {},
   "outputs": [
    {
     "name": "stdout",
     "output_type": "stream",
     "text": [
      "x_train (60000, 28, 28)\n",
      "Epoch 1/5\n",
      "1875/1875 [==============================] - 121s 62ms/step - loss: 0.4356 - accuracy: 0.9335\n",
      "Epoch 2/5\n",
      "1875/1875 [==============================] - 118s 63ms/step - loss: 0.1430 - accuracy: 0.9673\n",
      "Epoch 3/5\n",
      "1875/1875 [==============================] - 78s 42ms/step - loss: 0.0758 - accuracy: 0.9790\n",
      "Epoch 4/5\n",
      "1875/1875 [==============================] - 137s 73ms/step - loss: 0.0615 - accuracy: 0.9805\n",
      "Epoch 5/5\n",
      "1875/1875 [==============================] - 96s 51ms/step - loss: 0.0508 - accuracy: 0.9845\n"
     ]
    },
    {
     "data": {
      "text/plain": [
       "<keras.callbacks.History at 0x1d58b267f70>"
      ]
     },
     "execution_count": 5,
     "metadata": {},
     "output_type": "execute_result"
    }
   ],
   "source": [
    "mnist = tf.keras.datasets.mnist\n",
    "\n",
    "(x_train, y_train),(x_test, y_test) = mnist.load_data()\n",
    "x_train, x_test = x_train / 255.0, x_test / 255.0\n",
    "\n",
    "print(\"x_train\", x_train.shape)\n",
    "model = tf.keras.models.Sequential([\n",
    "  tf.keras.layers.InputLayer(( 28, 28, 1)),\n",
    "  InceptionBlock(n_filters=64),\n",
    "  tf.keras.layers.Conv2D(kernel_size= (3,3), filters = 32),\n",
    "  tf.keras.layers.Flatten(),\n",
    "  tf.keras.layers.Dropout(0.2),\n",
    "  tf.keras.layers.Dense(10, activation='softmax')\n",
    "])\n",
    "\n",
    "model.compile(optimizer='adam',\n",
    "              loss='sparse_categorical_crossentropy',\n",
    "              metrics=['accuracy'])\n",
    "\n",
    "model.fit(x_train, y_train, epochs=5)"
   ]
  },
  {
   "cell_type": "code",
   "execution_count": 6,
   "metadata": {},
   "outputs": [
    {
     "name": "stdout",
     "output_type": "stream",
     "text": [
      "313/313 [==============================] - 5s 15ms/step - loss: 0.0505 - accuracy: 0.9837\n"
     ]
    },
    {
     "data": {
      "text/plain": [
       "[0.05054245889186859, 0.9836999773979187]"
      ]
     },
     "execution_count": 6,
     "metadata": {},
     "output_type": "execute_result"
    }
   ],
   "source": [
    "model.evaluate(x_test, y_test)"
   ]
  },
  {
   "cell_type": "code",
   "execution_count": 7,
   "metadata": {},
   "outputs": [
    {
     "name": "stdout",
     "output_type": "stream",
     "text": [
      "Model: \"sequential\"\n",
      "_________________________________________________________________\n",
      " Layer (type)                Output Shape              Param #   \n",
      "=================================================================\n",
      " inception_block (InceptionB  (None, 28, 28, 288)      211872    \n",
      " lock)                                                           \n",
      "                                                                 \n",
      " conv2d_7 (Conv2D)           (None, 26, 26, 32)        82976     \n",
      "                                                                 \n",
      " flatten (Flatten)           (None, 21632)             0         \n",
      "                                                                 \n",
      " dropout (Dropout)           (None, 21632)             0         \n",
      "                                                                 \n",
      " dense (Dense)               (None, 10)                216330    \n",
      "                                                                 \n",
      "=================================================================\n",
      "Total params: 511,178\n",
      "Trainable params: 510,602\n",
      "Non-trainable params: 576\n",
      "_________________________________________________________________\n"
     ]
    }
   ],
   "source": [
    "model.summary()"
   ]
  },
  {
   "cell_type": "code",
   "execution_count": null,
   "metadata": {},
   "outputs": [],
   "source": []
  },
  {
   "cell_type": "code",
   "execution_count": null,
   "metadata": {},
   "outputs": [],
   "source": []
  }
 ],
 "metadata": {
  "kernelspec": {
   "display_name": "fcc-tf",
   "language": "python",
   "name": "python3"
  },
  "language_info": {
   "codemirror_mode": {
    "name": "ipython",
    "version": 3
   },
   "file_extension": ".py",
   "mimetype": "text/x-python",
   "name": "python",
   "nbconvert_exporter": "python",
   "pygments_lexer": "ipython3",
   "version": "3.10.14"
  }
 },
 "nbformat": 4,
 "nbformat_minor": 2
}
