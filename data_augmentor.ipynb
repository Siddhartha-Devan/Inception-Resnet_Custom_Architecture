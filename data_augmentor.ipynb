{
 "cells": [
  {
   "cell_type": "code",
   "execution_count": 2,
   "metadata": {},
   "outputs": [],
   "source": [
    "import tensorflow as tf\n",
    "import cv2\n",
    "import pandas as pd\n",
    "import numpy as np\n",
    "import seaborn as sns\n",
    "\n",
    "import os"
   ]
  },
  {
   "cell_type": "code",
   "execution_count": 1,
   "metadata": {},
   "outputs": [],
   "source": [
    "from keras.preprocessing.image import ImageDataGenerator"
   ]
  },
  {
   "cell_type": "code",
   "execution_count": 6,
   "metadata": {},
   "outputs": [],
   "source": [
    "img_width, img_height = 256, 256\n",
    "batch_size = 32\n",
    "\n",
    "\n",
    "train_datagen = ImageDataGenerator(\n",
    "    rescale=1. / 255,\n",
    "    shear_range=0.2,          # Randomly applies shearing transformations\n",
    "    zoom_range=0.2,           # Randomly zooms inside pictures\n",
    "    rotation_range=20,        # Randomly rotates images in the range (degrees, 0 to 180)\n",
    "    width_shift_range=0.2,    # Randomly shifts images horizontally (fraction of total width)\n",
    "    height_shift_range=0.2,   # Randomly shifts images vertically (fraction of total height)\n",
    "    horizontal_flip=True      # Randomly flips half of the images horizontally\n",
    ")\n",
    "\n",
    "\n",
    "train_path = r\"C:\\Users\\Siddhartha Devan V\\Downloads\\datasets\\Tomato disease\\train\""
   ]
  },
  {
   "cell_type": "code",
   "execution_count": 7,
   "metadata": {},
   "outputs": [
    {
     "name": "stdout",
     "output_type": "stream",
     "text": [
      "Found 25848 images belonging to 11 classes.\n"
     ]
    }
   ],
   "source": [
    "train_generator = train_datagen.flow_from_directory(\n",
    "    train_path,  # Path to the parent directory containing class folders\n",
    "    target_size=(img_width, img_height),\n",
    "    batch_size=batch_size,\n",
    "    class_mode='categorical'  # Assuming you have two classes\n",
    ")"
   ]
  },
  {
   "cell_type": "code",
   "execution_count": 9,
   "metadata": {},
   "outputs": [],
   "source": [
    "import os\n",
    "from tensorflow.keras.preprocessing.image import ImageDataGenerator\n",
    "from tensorflow.keras.preprocessing.image import img_to_array, load_img, save_img\n",
    "\n",
    "# Define paths\n",
    "original_data_dir = r'C:\\Users\\Siddhartha Devan V\\Downloads\\datasets\\Tomato disease\\train'\n",
    "augmented_data_dir = r'C:\\Users\\Siddhartha Devan V\\Downloads\\datasets\\Tomato disease\\augmented_train'\n",
    "\n",
    "# Create the augmented_data_dir directory if it doesn't exist\n",
    "os.makedirs(augmented_data_dir, exist_ok=True)\n",
    "\n",
    "# Initialize the ImageDataGenerator for augmentation\n",
    "datagen = ImageDataGenerator(\n",
    "    rescale=1. / 255,\n",
    "    shear_range=0.2,\n",
    "    zoom_range=0.2,\n",
    "    rotation_range=20,\n",
    "    width_shift_range=0.2,\n",
    "    height_shift_range=0.2,\n",
    "    horizontal_flip=True\n",
    ")\n"
   ]
  },
  {
   "cell_type": "code",
   "execution_count": null,
   "metadata": {},
   "outputs": [],
   "source": [
    "\n",
    "# Loop through each class directory\n",
    "for class_name in os.listdir(original_data_dir):\n",
    "    class_path = os.path.join(original_data_dir, class_name)\n",
    "    save_to_dir = os.path.join(augmented_data_dir, class_name)\n",
    "    os.makedirs(save_to_dir, exist_ok=True)\n",
    "\n",
    "    # Loop through each image file in the class directory\n",
    "    for img_name in os.listdir(class_path):\n",
    "        img_path = os.path.join(class_path, img_name)\n",
    "        img = load_img(img_path)  # Load the image\n",
    "        x = img_to_array(img)  # Convert image to array\n",
    "        x = x.reshape((1,) + x.shape)  # Reshape image\n",
    "\n",
    "        # Save the original image\n",
    "        save_img(os.path.join(save_to_dir, img_name), img)\n",
    "\n",
    "        # Generate augmented images and save them\n",
    "        i = 0\n",
    "        for batch in datagen.flow(x, batch_size=1, save_to_dir=save_to_dir, save_prefix='aug', save_format='jpeg'):\n",
    "            i += 1\n",
    "            if i >= 5:  # Generate 5 augmented images per original image\n",
    "                break  # Stop after generating 5 images per original\n",
    "\n",
    "print(\"Augmentation and saving complete.\")"
   ]
  },
  {
   "cell_type": "code",
   "execution_count": null,
   "metadata": {},
   "outputs": [],
   "source": []
  },
  {
   "cell_type": "code",
   "execution_count": null,
   "metadata": {},
   "outputs": [],
   "source": []
  },
  {
   "cell_type": "code",
   "execution_count": null,
   "metadata": {},
   "outputs": [],
   "source": []
  },
  {
   "cell_type": "code",
   "execution_count": null,
   "metadata": {},
   "outputs": [],
   "source": []
  },
  {
   "cell_type": "code",
   "execution_count": null,
   "metadata": {},
   "outputs": [],
   "source": []
  },
  {
   "cell_type": "code",
   "execution_count": null,
   "metadata": {},
   "outputs": [],
   "source": []
  },
  {
   "cell_type": "code",
   "execution_count": null,
   "metadata": {},
   "outputs": [],
   "source": []
  },
  {
   "cell_type": "code",
   "execution_count": null,
   "metadata": {},
   "outputs": [],
   "source": []
  },
  {
   "cell_type": "code",
   "execution_count": null,
   "metadata": {},
   "outputs": [],
   "source": []
  },
  {
   "cell_type": "code",
   "execution_count": null,
   "metadata": {},
   "outputs": [],
   "source": []
  },
  {
   "cell_type": "code",
   "execution_count": null,
   "metadata": {},
   "outputs": [],
   "source": []
  },
  {
   "cell_type": "code",
   "execution_count": null,
   "metadata": {},
   "outputs": [],
   "source": []
  }
 ],
 "metadata": {
  "kernelspec": {
   "display_name": "fcc-tf",
   "language": "python",
   "name": "python3"
  },
  "language_info": {
   "codemirror_mode": {
    "name": "ipython",
    "version": 3
   },
   "file_extension": ".py",
   "mimetype": "text/x-python",
   "name": "python",
   "nbconvert_exporter": "python",
   "pygments_lexer": "ipython3",
   "version": "3.10.14"
  }
 },
 "nbformat": 4,
 "nbformat_minor": 2
}
